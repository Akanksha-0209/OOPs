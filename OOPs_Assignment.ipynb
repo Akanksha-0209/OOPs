{
  "nbformat": 4,
  "nbformat_minor": 0,
  "metadata": {
    "colab": {
      "provenance": []
    },
    "kernelspec": {
      "name": "python3",
      "display_name": "Python 3"
    },
    "language_info": {
      "name": "python"
    }
  },
  "cells": [
    {
      "cell_type": "markdown",
      "source": [
        "**Theory Questions**\n",
        "\n",
        "Ques 1 : What is Object-Oriented Programming (OOP)?\n",
        "\n",
        "Ans : OOP is programming paradigm based on the concept of objects which contains data and methods. OOPs are required because of their reusability, modularity and abstraction.\n",
        "Properties of OOPs include Inheritance, Polymorphism, Abstraction and Encapsulation.\n",
        "\n",
        "Ques 2: What is a class in OOP?\n",
        "\n",
        "Ans : Class refers to the blueprint for creating objects. It defines set of attributes and methods that the objects will have.\n",
        "\n",
        "Ques 3: What is an object in OOP?\n",
        "\n",
        "Ans: An object is an instance of class. It represents actual implementation of class with values for attributes.\n",
        "\n",
        "Ques 4: What is the difference between abstraction and encapsulation?\n",
        "\n",
        "Ans: Abstraction hides complex implementation details and shows only the necessary features.\n",
        "\n",
        "Encapsulation restricts direct access to some components using access modifiers like private attributes.\n",
        "\n",
        "Ques 5:  What are dunder methods in Python?\n",
        "\n",
        "Ans : Dunder methods are special methods like `__init__`, `__len__`, `__str__` used to define behaviour for built-in operations.\n",
        "\n",
        "Ques 6: Explain the concept of inheritance in OOP.\n",
        "\n",
        "Ans : Inheritance is a property of OOP where a child class inherits attributes and methods from a parent class. It promotes reusability of code.\n",
        "\n",
        "Ques 7:  What is polymorphism in OOP?\n",
        "\n",
        "Ans : Polymorphism means **many forms**. It allows different classes to perform methods with same name but with different behaviours.\\\n",
        "\n",
        "Ques 8:  How is encapsulation achieved in Python?\n",
        "\n",
        "Ans: By using private attributes `_` or `__`.\n",
        "\n",
        "Ques 9 :  What is a constructor in Python?\n",
        "\n",
        "Ans: A constructor is a special method used to initialize objects when a class is instantiated.\n",
        "In Python, this is done using the __init__() method.\n",
        "\n",
        "Example : class Account:\n",
        "\n",
        "def `__init__`(self, parameters):\n",
        "\n",
        "Ques 10:  What are class and static methods in Python?\n",
        "\n",
        "Ans : Class Methods use @classmethod decorator. It takes `cls` as the first argument. It can access and modify class variables.\n",
        "\n",
        "Static Methods are defined using @staticmethod decorator. It doesn't take any automatic first argument like `self` or `cls`. It acts like regular function in the class and cannot access class or data.\n",
        "\n",
        "\n",
        "Ques 11:  What is method overloading in Python?\n",
        "\n",
        "Ans : Method overloading means defining multiple methods with the same name but different parameters (number or type).\n",
        "\n",
        "Python does not support it directly. It can be simulated using default arguments or *args.\n",
        "\n",
        "\n",
        "Ques 12 : What is method overriding in OOP?\n",
        "\n",
        "Ans : Method overriding is redefining a method in a child class that is already defined in the parent class.\n",
        "\n",
        "Que 13 : What is a property decorator in Python?\n",
        "\n",
        "Ans : @property is used to make a method behave like an attribute (getter), often used with setters.\n",
        "\n",
        "Ques 14 :  Why is polymorphism important in OOP?\n",
        "\n",
        "Ans: It improves scalability and flexibility by enabling consistent treatment of objects of various kinds.\n",
        "\n",
        "Ques 15 : What is an abstract class in Python?\n",
        "\n",
        "Ans: An abstract method is a method that is declared but not implemented in the base class.\n",
        "It forces child classes to provide their own implementation.\n",
        "\n",
        "An abstract class is a class that contains one or more abstract methods.\n",
        "It cannot be instantiated directly.\n",
        "\n",
        "Ques 16 :  What are the advantages of OOP?\n",
        "\n",
        "Ans: It helps in managing complexity.\n",
        "\n",
        "Easier Maintenance\n",
        "\n",
        "Modular structure\n",
        "\n",
        "Real-world usability\n",
        "\n",
        "Code Reusability\n",
        "\n",
        "Extensibility\n",
        "\n",
        "Flexibility via polymorphism\n",
        "\n",
        "Ques 17 :  What is the difference between a class variable and an instance variable?\n",
        "\n",
        "Ans : Class variable is shared among all the instances while instance variable is unique for each object.\n",
        "\n",
        "Ques 18 : What is multiple inheritance in Python?\n",
        "\n",
        "Ans: Multiple inheritance allows a class to inherit from more than one parent class.\n",
        "This means the child class gets attributes and methods from multiple classes.\n",
        "\n",
        "Ques 19 :  Explain the purpose of ‘’__str__’ and ‘__repr__’ ‘ methods in Python\n",
        "\n",
        "Ans: `__str__` is user friendly representation of string.\n",
        "`__repr__` is developer-friendly representation. It is used while debugging, logging or want an unambiguous output.\n",
        "\n",
        "Ques 20 :  What is the significance of the ‘super()’ function in Python?\n",
        "\n",
        "Ans: It is used to call methods from parent class, especially useful in method overriding and constructors.\n",
        "\n",
        "Ques 21 : What is the significance of `__del__` method in python?\n",
        "\n",
        "Ans: It is commonly known as destructor method. This method is called when an object is about to be destroyed. It is used to cleanup the resources. It is automatically calleed when object is deleted or program ends.\n",
        "\n",
        "Ques 22 :  What is the difference between @staticmethod and @classmethod in Python?\n",
        "\n",
        "Ans: In @staticmethod we cannot access to the class or instance while in @classmethod there is access to class but not instance.\n",
        "\n",
        "Ques 23 : How does polymorphism work in Python with inheritance?\n",
        "\n",
        "Ans : Poylmorphism can be used with inheritance as different subclasses can override the methods from parent class and the method called is determined by the object type.\n",
        "\n",
        "Ques 24 : What is method chaining in Python OOP?\n",
        "\n",
        "Ans: Method chaining is the technique where multiple method calls are made on the same object, one after the other, in a single line of code.\n",
        "It’s achieved when each method returns `self`, allowing further method calls.\n",
        "\n",
        "Ques 25 :  What is the purpose of the __call__ method in Python?\n",
        "\n",
        "Ans: The `__call__` method allows an object to be called like a function. It enables function-like behaviour while maintaining state in objects.\n"
      ],
      "metadata": {
        "id": "8UFaHJcoi1s8"
      }
    },
    {
      "cell_type": "markdown",
      "source": [
        "**Practical Questions**\n",
        "\n",
        " 1. Create a parent class Animal with a method speak() that prints a generic message. Create a child class Dog\n",
        "that overrides the speak() method to print \"Bark!\"."
      ],
      "metadata": {
        "id": "iBAxFOtXz9R9"
      }
    },
    {
      "cell_type": "code",
      "execution_count": 1,
      "metadata": {
        "id": "kW7yvnG3ihHG",
        "colab": {
          "base_uri": "https://localhost:8080/"
        },
        "outputId": "69eb4b62-d520-4853-b1bc-8b562fe3d70b"
      },
      "outputs": [
        {
          "output_type": "stream",
          "name": "stdout",
          "text": [
            "Bark!\n"
          ]
        }
      ],
      "source": [
        "class Animal:\n",
        "  def speak(self):\n",
        "    print('This is a generic Animal Sound.')\n",
        "\n",
        "class Dog(Animal):\n",
        "  def speak(self):\n",
        "    print(\"Bark!\")\n",
        "\n",
        "#object created\n",
        "d = Dog()\n",
        "d.speak()\n"
      ]
    },
    {
      "cell_type": "markdown",
      "source": [
        " 2. Write a program to create an abstract class Shape with a method area(). Derive classes Circle and Rectangle\n",
        "from it and implement the area() method in both."
      ],
      "metadata": {
        "id": "LBYKZ_o11__a"
      }
    },
    {
      "cell_type": "code",
      "source": [
        "from abc import ABC, abstractmethod\n",
        "import math\n",
        "\n",
        "\n",
        "class Shape(ABC):\n",
        "  @abstractmethod\n",
        "  def Area(self):\n",
        "    Pass\n",
        "\n",
        "#sublcass circle\n",
        "class Circle(Shape):\n",
        "  def __init__(self, radius):\n",
        "    self.radius = radius\n",
        "\n",
        "  def Area(self):\n",
        "    return math.pi * self.radius ** 2\n",
        "\n",
        "#subclass Rectangle\n",
        "class Rectangle(Shape):\n",
        "  def __init__(self, length, width):\n",
        "    self.length = length\n",
        "    self.width = width\n",
        "\n",
        "  def Area(self):\n",
        "    return self.length * self.width\n",
        "\n",
        "\n",
        "#object creation\n",
        "c = Circle(3)\n",
        "r = Rectangle(4,5)\n",
        "\n",
        "print(c.Area())\n",
        "print(r.Area())\n"
      ],
      "metadata": {
        "colab": {
          "base_uri": "https://localhost:8080/"
        },
        "id": "DUA1kHU41se3",
        "outputId": "e6947aff-5cdc-4c15-8f45-73549c1a2544"
      },
      "execution_count": 3,
      "outputs": [
        {
          "output_type": "stream",
          "name": "stdout",
          "text": [
            "28.274333882308138\n",
            "20\n"
          ]
        }
      ]
    },
    {
      "cell_type": "markdown",
      "source": [
        "3. Implement a multi-level inheritance scenario where a class Vehicle has an attribute type. Derive a class Car\n",
        "and further derive a class ElectricCar that adds a battery attribute."
      ],
      "metadata": {
        "id": "0iZD0s9P5-mU"
      }
    },
    {
      "cell_type": "code",
      "source": [
        "class Vehicle:\n",
        "  def __init__(self, type):\n",
        "    self.type = type\n",
        "\n",
        "class Car(Vehicle):\n",
        "  def __init__(self, type, model):\n",
        "    super().__init__(type)\n",
        "    self.model = model\n",
        "\n",
        "class ElectricCar(Car):\n",
        "  def __init__(self, type, model, battery):\n",
        "    super().__init__(type, model)\n",
        "    self.battery = battery\n",
        "\n",
        "  def display(self):\n",
        "    print(f'Type: {self.type} , Model: {self.model}, Battery: {self.battery} kwh')\n",
        "\n",
        "\n",
        "#object creation\n",
        "ecar = ElectricCar('Electric', 'Tesla Model 3' , 75)\n",
        "ecar.display()"
      ],
      "metadata": {
        "colab": {
          "base_uri": "https://localhost:8080/"
        },
        "id": "KwN8fK0Y5v0A",
        "outputId": "4630b50c-010a-47bd-8a48-75834baf934e"
      },
      "execution_count": 6,
      "outputs": [
        {
          "output_type": "stream",
          "name": "stdout",
          "text": [
            "Type: Electric , Model: Tesla Model 3, Battery: 75 kwh\n"
          ]
        }
      ]
    },
    {
      "cell_type": "markdown",
      "source": [
        " 4. Demonstrate polymorphism by creating a base class Bird with a method fly(). Create two derived classes\n",
        "Sparrow and Penguin that override the fly() method."
      ],
      "metadata": {
        "id": "hRaQK9L_8hyO"
      }
    },
    {
      "cell_type": "code",
      "source": [
        "class Bird:\n",
        "  def fly(self):\n",
        "    print(\"Some birds can fly\")\n",
        "\n",
        "class Sparrow(Bird):\n",
        "  def fly(self):\n",
        "    print(\"Sparrow flies high\")\n",
        "\n",
        "class Penguin(Bird):\n",
        "  def fly(self):\n",
        "    print(\"Penguin cannot fly\")\n",
        "\n",
        "#object creation\n",
        "b = Sparrow()\n",
        "b.fly()\n",
        "\n",
        "c = Penguin()\n",
        "c.fly()\n"
      ],
      "metadata": {
        "colab": {
          "base_uri": "https://localhost:8080/"
        },
        "id": "VM7d09f48Nvy",
        "outputId": "e2bae1dc-f319-4671-9596-aec2fd54f6f7"
      },
      "execution_count": 8,
      "outputs": [
        {
          "output_type": "stream",
          "name": "stdout",
          "text": [
            "Sparrow flies high\n",
            "Penguin cannot fly\n"
          ]
        }
      ]
    },
    {
      "cell_type": "markdown",
      "source": [
        "5. Write a program to demonstrate encapsulation by creating a class BankAccount with private attributes\n",
        "balance and methods to deposit, withdraw, and check balance."
      ],
      "metadata": {
        "id": "78yK0P0J94ot"
      }
    },
    {
      "cell_type": "code",
      "source": [
        "class BankAccount:\n",
        "  def __init__(self, balance=0):\n",
        "    self.__balance = balance\n",
        "\n",
        "  def deposit(self, Amount):\n",
        "    self.__balance += Amount\n",
        "\n",
        "  def withdraw(self, withdraw_amount):\n",
        "    if withdraw_amount <= self.__balance:\n",
        "      self.__balance -= withdraw_amount\n",
        "    else:\n",
        "      print(\"Insufficient Funds\")\n",
        "\n",
        "  def check_balance(self):\n",
        "    return self.__balance\n",
        "\n",
        "\n",
        " #object creation\n",
        "acc = BankAccount()\n",
        "acc.deposit(5000)\n",
        "acc.withdraw(1000)\n",
        "print(acc.check_balance())"
      ],
      "metadata": {
        "colab": {
          "base_uri": "https://localhost:8080/"
        },
        "id": "JQy0sIsF9mWe",
        "outputId": "77f89fe4-73ac-43d4-d402-439ca744f218"
      },
      "execution_count": 27,
      "outputs": [
        {
          "output_type": "stream",
          "name": "stdout",
          "text": [
            "4000\n"
          ]
        }
      ]
    },
    {
      "cell_type": "markdown",
      "source": [
        "6. Demonstrate runtime polymorphism using a method play() in a base class Instrument. Derive classes Guitar\n",
        "and Piano that implement their own version of play()."
      ],
      "metadata": {
        "id": "607HzEV7A98y"
      }
    },
    {
      "cell_type": "code",
      "source": [
        "class Instrument:\n",
        "  def play(self):\n",
        "    print(\"Instrument is being played\")\n",
        "\n",
        "class Guitar(Instrument):\n",
        "  def play(self):\n",
        "    print(\"Playing Guitar\")\n",
        "\n",
        "class Piano(Instrument):\n",
        "  def play(self):\n",
        "    print(\"Playing Piano\")\n",
        "\n",
        "for Instrument in [Guitar(), Piano()]:\n",
        "  Instrument.play()"
      ],
      "metadata": {
        "colab": {
          "base_uri": "https://localhost:8080/"
        },
        "id": "IF6GAvMc_h7T",
        "outputId": "023b1f04-5d2e-4349-a27e-dd9d41245df7"
      },
      "execution_count": 30,
      "outputs": [
        {
          "output_type": "stream",
          "name": "stdout",
          "text": [
            "Playing Guitar\n",
            "Playing Piano\n"
          ]
        }
      ]
    },
    {
      "cell_type": "markdown",
      "source": [
        " 7. Create a class MathOperations with a class method add_numbers() to add two numbers and a static\n",
        "method subtract_numbers() to subtract two numbers."
      ],
      "metadata": {
        "id": "CsGjncLPB6_Q"
      }
    },
    {
      "cell_type": "code",
      "source": [
        "class MathOperations:\n",
        "  @classmethod\n",
        "  def add_numbers(cls, a, b):\n",
        "    return a + b\n",
        "\n",
        "  @staticmethod\n",
        "  def subtract_numbers(a, b):\n",
        "    return a - b\n",
        "\n",
        "print(MathOperations.add_numbers(10, 2))\n",
        "print(MathOperations.subtract_numbers(10, 2))"
      ],
      "metadata": {
        "colab": {
          "base_uri": "https://localhost:8080/"
        },
        "id": "_Ds4IGzzBx-a",
        "outputId": "a038dda0-ea57-44f7-f3d5-a802d3529797"
      },
      "execution_count": 36,
      "outputs": [
        {
          "output_type": "stream",
          "name": "stdout",
          "text": [
            "12\n",
            "8\n"
          ]
        }
      ]
    },
    {
      "cell_type": "markdown",
      "source": [
        "8. Implement a class Person with a class method to count the total number of persons created."
      ],
      "metadata": {
        "id": "_IrvfjL_DOR-"
      }
    },
    {
      "cell_type": "code",
      "source": [
        "class Person:\n",
        "  count = 0\n",
        "\n",
        "  def __init__(self, name):\n",
        "    self.name = name\n",
        "    Person.count += 1\n",
        "\n",
        "  @classmethod\n",
        "  def get_count(cls):\n",
        "    return cls.count\n",
        "\n",
        "p1 = Person(\"Akanksha\")\n",
        "p2 = Person(\"Riya\")\n",
        "p3 = Person(\"Garima\")\n",
        "p4 = Person(\"Shreya\")\n",
        "print(Person.get_count())"
      ],
      "metadata": {
        "colab": {
          "base_uri": "https://localhost:8080/"
        },
        "id": "N_jlT4OzC8Pi",
        "outputId": "c25bd0e2-1ee1-4a55-b3de-52ee3674bf0a"
      },
      "execution_count": 37,
      "outputs": [
        {
          "output_type": "stream",
          "name": "stdout",
          "text": [
            "4\n"
          ]
        }
      ]
    },
    {
      "cell_type": "markdown",
      "source": [
        "9. Write a class Fraction with attributes numerator and denominator. Override the str method to display the\n",
        "fraction as \"numerator/denominator\"."
      ],
      "metadata": {
        "id": "6hFvyhSBEfuP"
      }
    },
    {
      "cell_type": "code",
      "source": [
        "class Fraction:\n",
        "    def __init__(self, numerator, denominator):\n",
        "        self.numerator = numerator\n",
        "        self.denominator = denominator\n",
        "\n",
        "    def __str__(self):\n",
        "        return f\"{self.numerator}/{self.denominator}\"\n",
        "\n",
        "f = Fraction(4, 5)\n",
        "print(f)"
      ],
      "metadata": {
        "colab": {
          "base_uri": "https://localhost:8080/"
        },
        "id": "IaCVd0LQEQKv",
        "outputId": "b79f5208-dc54-44d7-fb34-1428bd293c27"
      },
      "execution_count": 42,
      "outputs": [
        {
          "output_type": "stream",
          "name": "stdout",
          "text": [
            "4/5\n"
          ]
        }
      ]
    },
    {
      "cell_type": "markdown",
      "source": [
        "10. Demonstrate operator overloading by creating a class Vector and overriding the add method to add two\n",
        "vectors."
      ],
      "metadata": {
        "id": "m6d5uUBwGU8W"
      }
    },
    {
      "cell_type": "code",
      "source": [
        "class Vector:\n",
        "  def __init__(self, x, y):\n",
        "    self.x = x\n",
        "    self. y = y\n",
        "  def __add__(self, other):\n",
        "    return Vector(self.x + other.x, self.y + other.y)\n",
        "  def __str__(self):\n",
        "    return f\"Vector({self.x}, {self.y})\"\n",
        "\n",
        "v1 = Vector(2, 3)\n",
        "v2 = Vector(1, 4)\n",
        "v3 = v1 + v2\n",
        "print(v3)"
      ],
      "metadata": {
        "colab": {
          "base_uri": "https://localhost:8080/"
        },
        "id": "0XYW-rOkGMyB",
        "outputId": "72ef7219-16ab-4b37-d75d-40b09a2599e9"
      },
      "execution_count": 46,
      "outputs": [
        {
          "output_type": "stream",
          "name": "stdout",
          "text": [
            "Vector(3, 7)\n"
          ]
        }
      ]
    },
    {
      "cell_type": "markdown",
      "source": [
        " 11. Create a class Person with attributes name and age. Add a method greet() that prints \"Hello, my name is\n",
        "{name} and I am {age} years old.\""
      ],
      "metadata": {
        "id": "O5K2AlYSNFWa"
      }
    },
    {
      "cell_type": "code",
      "source": [
        "class Person:\n",
        "  def __init__(self, name, age):\n",
        "    self.name = name\n",
        "    self.age = age\n",
        "\n",
        "  def greet(self):\n",
        "    print(f'Hello, my name is {self.name} and I am {self.age} years old.')\n",
        "\n",
        "P = Person(\"Akanksha Deymbla\", 25)\n",
        "P.greet()\n",
        "\n"
      ],
      "metadata": {
        "colab": {
          "base_uri": "https://localhost:8080/"
        },
        "id": "J1E4PuKHK18u",
        "outputId": "d7eacc26-f768-4370-c0c8-c54c90225a2f"
      },
      "execution_count": 48,
      "outputs": [
        {
          "output_type": "stream",
          "name": "stdout",
          "text": [
            "Hello, my name is Akanksha Deymbla and I am 25 years old.\n"
          ]
        }
      ]
    },
    {
      "cell_type": "markdown",
      "source": [
        "12. Implement a class Student with attributes name and grades. Create a method average_grade() to compute\n",
        "the average of the grades."
      ],
      "metadata": {
        "id": "KFnI5JczOFIh"
      }
    },
    {
      "cell_type": "code",
      "source": [
        "class Student:\n",
        "  def __init__(self, name, grades):\n",
        "    self.name = name\n",
        "    self.grades = grades\n",
        "\n",
        "  def average_grade(self):\n",
        "    return sum(self.grades)/len(self.grades)\n",
        "\n",
        "s = Student(\"Anushka\", [85,90,95,80])\n",
        "print(s.average_grade())"
      ],
      "metadata": {
        "colab": {
          "base_uri": "https://localhost:8080/"
        },
        "id": "vo1tMGlhOKB-",
        "outputId": "711c8d69-e482-445b-c612-e9e634035bd1"
      },
      "execution_count": 52,
      "outputs": [
        {
          "output_type": "stream",
          "name": "stdout",
          "text": [
            "87.5\n"
          ]
        }
      ]
    },
    {
      "cell_type": "markdown",
      "source": [
        "13. Create a class Rectangle with methods set_dimensions() to set the dimensions and area() to calculate the\n",
        "area."
      ],
      "metadata": {
        "id": "jF8IfnT9PQVI"
      }
    },
    {
      "cell_type": "code",
      "source": [
        "class Rectangle:\n",
        "  def set_dimensions(self, length, width):\n",
        "    self.length = length\n",
        "    self.width = width\n",
        "\n",
        "  def area(self):\n",
        "    return self.length * self.width\n",
        "\n",
        "r = Rectangle()\n",
        "r.set_dimensions(5,3)\n",
        "print(r.area())"
      ],
      "metadata": {
        "colab": {
          "base_uri": "https://localhost:8080/"
        },
        "id": "nYmRKV3wNcBJ",
        "outputId": "1e13b53c-fb2f-4be5-fd09-dd2a9b66597e"
      },
      "execution_count": 54,
      "outputs": [
        {
          "output_type": "stream",
          "name": "stdout",
          "text": [
            "15\n"
          ]
        }
      ]
    },
    {
      "cell_type": "markdown",
      "source": [
        " 14. Create a class Employee with a method calculate_salary() that computes the salary based on hours worked\n",
        "and hourly rate. Create a derived class Manager that adds a bonus to the salary."
      ],
      "metadata": {
        "id": "8tdPq7dTQXFg"
      }
    },
    {
      "cell_type": "code",
      "source": [
        "class Employee:\n",
        "  def __init__(self, name, hours_worked, hourly_rate):\n",
        "    self.name = name\n",
        "    self.hours_worked = hours_worked\n",
        "    self.hourly_rate = hourly_rate\n",
        "\n",
        "  def calculate_salary(self):\n",
        "    return self.hours_worked * self.hourly_rate\n",
        "\n",
        "class Manager(Employee):\n",
        "  def __init__(self, name, hours_worked, hourly_rate, bonus):\n",
        "    super().__init__(name, hours_worked, hourly_rate)\n",
        "    self.bonus = bonus\n",
        "\n",
        "  def calculate_salary(self):\n",
        "    return super().calculate_salary() + self.bonus\n",
        "\n",
        "m = Manager(\"Akanksha\", 40, 500, 1000)\n",
        "m.calculate_salary()"
      ],
      "metadata": {
        "colab": {
          "base_uri": "https://localhost:8080/"
        },
        "id": "p_EvWJnRQHor",
        "outputId": "074afa4c-3a1d-4213-e912-a5bc563b3ffa"
      },
      "execution_count": 59,
      "outputs": [
        {
          "output_type": "execute_result",
          "data": {
            "text/plain": [
              "21000"
            ]
          },
          "metadata": {},
          "execution_count": 59
        }
      ]
    },
    {
      "cell_type": "markdown",
      "source": [
        "15. Create a class Product with attributes name, price, and quantity. Implement a method total_price() that\n",
        "calculates the total price of the product."
      ],
      "metadata": {
        "id": "yimuIDFoS80i"
      }
    },
    {
      "cell_type": "code",
      "source": [
        "class Product:\n",
        "  def __init__(self, name, price, quantity):\n",
        "    self.name = name\n",
        "    self.price = price\n",
        "    self.quantity = quantity\n",
        "\n",
        "  def total_price(self):\n",
        "    return self.price * self.quantity\n",
        "\n",
        "P = Product(\"Table\", 1000, 4)\n",
        "P.total_price()\n"
      ],
      "metadata": {
        "colab": {
          "base_uri": "https://localhost:8080/"
        },
        "id": "3r9pNbyvSrcg",
        "outputId": "c2583f5b-7c27-418a-bde8-f7faa94a05ff"
      },
      "execution_count": 60,
      "outputs": [
        {
          "output_type": "execute_result",
          "data": {
            "text/plain": [
              "4000"
            ]
          },
          "metadata": {},
          "execution_count": 60
        }
      ]
    },
    {
      "cell_type": "markdown",
      "source": [
        "16. Create a class Animal with an abstract method sound(). Create two derived classes Cow and Sheep that\n",
        "implement the sound() method."
      ],
      "metadata": {
        "id": "_xQ6AHvMT4dp"
      }
    },
    {
      "cell_type": "code",
      "source": [
        "from abc import ABC, abstractmethod\n",
        "\n",
        "class Animal(ABC):\n",
        "  @abstractmethod\n",
        "  def sound(self):\n",
        "    pass\n",
        "\n",
        "class Cow(Animal):\n",
        "  def sound(self):\n",
        "    print(\"Moo\")\n",
        "\n",
        "class Sheep(Animal):\n",
        "  def sound(self):\n",
        "    print(\"Baa\")\n",
        "\n",
        "Cow().sound()\n",
        "Sheep().sound()"
      ],
      "metadata": {
        "colab": {
          "base_uri": "https://localhost:8080/"
        },
        "id": "WD84rvbNT1FQ",
        "outputId": "4aab852b-c003-4195-ae82-27943c5a4a7e"
      },
      "execution_count": 62,
      "outputs": [
        {
          "output_type": "stream",
          "name": "stdout",
          "text": [
            "Moo\n",
            "Baa\n"
          ]
        }
      ]
    },
    {
      "cell_type": "markdown",
      "source": [
        " 17. Create a class Book with attributes title, author, and year_published. Add a method get_book_info() that\n",
        "returns a formatted string with the book's details."
      ],
      "metadata": {
        "id": "jtO1IbElU-Jv"
      }
    },
    {
      "cell_type": "code",
      "source": [
        "class Book:\n",
        "  def __init__(self, title, author, year_published):\n",
        "    self.title = title\n",
        "    self.author = author\n",
        "    self.year_published = year_published\n",
        "\n",
        "  def get_book_info(self):\n",
        "    print(f\"'{self.title}' by {self.author}, published in {self.year_published})\")\n",
        "\n",
        "B = Book('Brave New World', 'Aldous Huxley', 1931)\n",
        "B.get_book_info()\n"
      ],
      "metadata": {
        "colab": {
          "base_uri": "https://localhost:8080/"
        },
        "id": "r9gLthQhUs4j",
        "outputId": "8b299a81-6ce1-47a0-b202-67672476ae1f"
      },
      "execution_count": 67,
      "outputs": [
        {
          "output_type": "stream",
          "name": "stdout",
          "text": [
            "'Brave New World' by Aldous Huxley, published in 1931)\n"
          ]
        }
      ]
    },
    {
      "cell_type": "markdown",
      "source": [
        "18. Create a class House with attributes address and price. Create a derived class Mansion that adds an\n",
        "attribute number_of_rooms."
      ],
      "metadata": {
        "id": "IeqRExBOXUpB"
      }
    },
    {
      "cell_type": "code",
      "source": [
        "class House:\n",
        "  def __init__(self, address, price):\n",
        "    self.address = address\n",
        "    self.price = price\n",
        "\n",
        "class Mansion(House):\n",
        "  def __init__(self, address, price, number_of_rooms):\n",
        "    super().__init__(address, price)\n",
        "    self.number_of_rooms = number_of_rooms\n",
        "\n",
        "  def show_details(self):\n",
        "    print(f'Address : {self.address}, Price: {self.price}, Rooms: {self.number_of_rooms}')\n",
        "\n",
        "M = Mansion(\"123 Charmswood Village\", 5000000, 10)\n",
        "M.show_details()\n"
      ],
      "metadata": {
        "colab": {
          "base_uri": "https://localhost:8080/"
        },
        "id": "zPkx3MJqWz-C",
        "outputId": "d9763f37-6892-4c90-9686-039ae3e3029a"
      },
      "execution_count": 68,
      "outputs": [
        {
          "output_type": "stream",
          "name": "stdout",
          "text": [
            "Address : 123 Charmswood Village, Price: 5000000, Rooms: 10\n"
          ]
        }
      ]
    },
    {
      "cell_type": "code",
      "source": [],
      "metadata": {
        "id": "jky9AFIHYokV"
      },
      "execution_count": null,
      "outputs": []
    }
  ]
}